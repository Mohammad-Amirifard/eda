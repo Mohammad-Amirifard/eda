{
 "cells": [
  {
   "cell_type": "markdown",
   "id": "e5d68500",
   "metadata": {},
   "source": [
    "<div class=\"alert alert-block alert-success\">\n",
    "    <h1 align=\"center\">10 Steps to do when conducting your Exploratory Data Analysis (EDA)</h1>\n",
    "    <h4 align=\"center\"><a href=\"https://mohammadamirifard.com/\">Mohammad Amirifard</a></h5>\n",
    "</div>"
   ]
  },
  {
   "cell_type": "markdown",
   "id": "694a791d",
   "metadata": {},
   "source": [
    "<img src = \"https://miro.medium.com/proxy/1*Owa2rsDG6Rwv1IM_RdsL3A.gif\">"
   ]
  },
  {
   "cell_type": "markdown",
   "id": "fc38c743",
   "metadata": {},
   "source": [
    "### Detail:\n",
    "In this program you learn how to do eda on your data\n",
    "\n",
    "EDA: Every time before we start analysing data in any method either manual or using computing tools, we always need to check and understand the data that we have. This intends to find out whether the data is sufficient or ready enough to proceed to the analytical process. As we already know, data is not always clean and ready to use. There are a lot of data in this world that is still messy, inconsistent, having many missing and duplicate values, imbalanced data, and many more.So, some of you might already deal with these issues and understand enough that data is not always clean like Kaggle Dataset, especially real-world data. Thus, Exploratory Data Analysis (EDA) needs to be done beforehand"
   ]
  },
  {
   "cell_type": "markdown",
   "id": "331ee4dd",
   "metadata": {},
   "source": [
    "<div class=\"alert alert-block alert-success\">\n",
    "    <h1 align=\"center\">Let's get started</h1>\n",
    "    <h2 align=\"center\">Step1: Import libararies and load dataset</h2>\n",
    "</div> "
   ]
  },
  {
   "cell_type": "code",
   "execution_count": 1,
   "id": "92d68525",
   "metadata": {},
   "outputs": [
    {
     "data": {
      "text/html": [
       "<div>\n",
       "<style scoped>\n",
       "    .dataframe tbody tr th:only-of-type {\n",
       "        vertical-align: middle;\n",
       "    }\n",
       "\n",
       "    .dataframe tbody tr th {\n",
       "        vertical-align: top;\n",
       "    }\n",
       "\n",
       "    .dataframe thead th {\n",
       "        text-align: right;\n",
       "    }\n",
       "</style>\n",
       "<table border=\"1\" class=\"dataframe\">\n",
       "  <thead>\n",
       "    <tr style=\"text-align: right;\">\n",
       "      <th></th>\n",
       "      <th>App</th>\n",
       "      <th>Category</th>\n",
       "      <th>Rating</th>\n",
       "      <th>Reviews</th>\n",
       "      <th>Size</th>\n",
       "      <th>Installs</th>\n",
       "      <th>Type</th>\n",
       "      <th>Price</th>\n",
       "      <th>Content Rating</th>\n",
       "      <th>Genres</th>\n",
       "      <th>Last Updated</th>\n",
       "      <th>Current Ver</th>\n",
       "      <th>Android Ver</th>\n",
       "    </tr>\n",
       "  </thead>\n",
       "  <tbody>\n",
       "    <tr>\n",
       "      <th>0</th>\n",
       "      <td>Photo Editor &amp; Candy Camera &amp; Grid &amp; ScrapBook</td>\n",
       "      <td>ART_AND_DESIGN</td>\n",
       "      <td>4.1</td>\n",
       "      <td>159</td>\n",
       "      <td>19M</td>\n",
       "      <td>10,000+</td>\n",
       "      <td>Free</td>\n",
       "      <td>0</td>\n",
       "      <td>Everyone</td>\n",
       "      <td>Art &amp; Design</td>\n",
       "      <td>January 7, 2018</td>\n",
       "      <td>1.0.0</td>\n",
       "      <td>4.0.3 and up</td>\n",
       "    </tr>\n",
       "    <tr>\n",
       "      <th>1</th>\n",
       "      <td>Coloring book moana</td>\n",
       "      <td>ART_AND_DESIGN</td>\n",
       "      <td>3.9</td>\n",
       "      <td>967</td>\n",
       "      <td>14M</td>\n",
       "      <td>500,000+</td>\n",
       "      <td>Free</td>\n",
       "      <td>0</td>\n",
       "      <td>Everyone</td>\n",
       "      <td>Art &amp; Design;Pretend Play</td>\n",
       "      <td>January 15, 2018</td>\n",
       "      <td>2.0.0</td>\n",
       "      <td>4.0.3 and up</td>\n",
       "    </tr>\n",
       "    <tr>\n",
       "      <th>2</th>\n",
       "      <td>U Launcher Lite – FREE Live Cool Themes, Hide ...</td>\n",
       "      <td>ART_AND_DESIGN</td>\n",
       "      <td>4.7</td>\n",
       "      <td>87510</td>\n",
       "      <td>8.7M</td>\n",
       "      <td>5,000,000+</td>\n",
       "      <td>Free</td>\n",
       "      <td>0</td>\n",
       "      <td>Everyone</td>\n",
       "      <td>Art &amp; Design</td>\n",
       "      <td>August 1, 2018</td>\n",
       "      <td>1.2.4</td>\n",
       "      <td>4.0.3 and up</td>\n",
       "    </tr>\n",
       "    <tr>\n",
       "      <th>3</th>\n",
       "      <td>Sketch - Draw &amp; Paint</td>\n",
       "      <td>ART_AND_DESIGN</td>\n",
       "      <td>4.5</td>\n",
       "      <td>215644</td>\n",
       "      <td>25M</td>\n",
       "      <td>50,000,000+</td>\n",
       "      <td>Free</td>\n",
       "      <td>0</td>\n",
       "      <td>Teen</td>\n",
       "      <td>Art &amp; Design</td>\n",
       "      <td>June 8, 2018</td>\n",
       "      <td>Varies with device</td>\n",
       "      <td>4.2 and up</td>\n",
       "    </tr>\n",
       "    <tr>\n",
       "      <th>4</th>\n",
       "      <td>Pixel Draw - Number Art Coloring Book</td>\n",
       "      <td>ART_AND_DESIGN</td>\n",
       "      <td>4.3</td>\n",
       "      <td>967</td>\n",
       "      <td>2.8M</td>\n",
       "      <td>100,000+</td>\n",
       "      <td>Free</td>\n",
       "      <td>0</td>\n",
       "      <td>Everyone</td>\n",
       "      <td>Art &amp; Design;Creativity</td>\n",
       "      <td>June 20, 2018</td>\n",
       "      <td>1.1</td>\n",
       "      <td>4.4 and up</td>\n",
       "    </tr>\n",
       "  </tbody>\n",
       "</table>\n",
       "</div>"
      ],
      "text/plain": [
       "                                                 App        Category  Rating  \\\n",
       "0     Photo Editor & Candy Camera & Grid & ScrapBook  ART_AND_DESIGN     4.1   \n",
       "1                                Coloring book moana  ART_AND_DESIGN     3.9   \n",
       "2  U Launcher Lite – FREE Live Cool Themes, Hide ...  ART_AND_DESIGN     4.7   \n",
       "3                              Sketch - Draw & Paint  ART_AND_DESIGN     4.5   \n",
       "4              Pixel Draw - Number Art Coloring Book  ART_AND_DESIGN     4.3   \n",
       "\n",
       "  Reviews  Size     Installs  Type Price Content Rating  \\\n",
       "0     159   19M      10,000+  Free     0       Everyone   \n",
       "1     967   14M     500,000+  Free     0       Everyone   \n",
       "2   87510  8.7M   5,000,000+  Free     0       Everyone   \n",
       "3  215644   25M  50,000,000+  Free     0           Teen   \n",
       "4     967  2.8M     100,000+  Free     0       Everyone   \n",
       "\n",
       "                      Genres      Last Updated         Current Ver  \\\n",
       "0               Art & Design   January 7, 2018               1.0.0   \n",
       "1  Art & Design;Pretend Play  January 15, 2018               2.0.0   \n",
       "2               Art & Design    August 1, 2018               1.2.4   \n",
       "3               Art & Design      June 8, 2018  Varies with device   \n",
       "4    Art & Design;Creativity     June 20, 2018                 1.1   \n",
       "\n",
       "    Android Ver  \n",
       "0  4.0.3 and up  \n",
       "1  4.0.3 and up  \n",
       "2  4.0.3 and up  \n",
       "3    4.2 and up  \n",
       "4    4.4 and up  "
      ]
     },
     "execution_count": 1,
     "metadata": {},
     "output_type": "execute_result"
    }
   ],
   "source": [
    "import pandas as pd\n",
    "import numpy as np\n",
    "import seaborn as sns\n",
    "\n",
    "filepath = r'googleplaystore.csv'\n",
    "data = pd.read_csv(filepath)\n",
    "data.head()"
   ]
  },
  {
   "cell_type": "markdown",
   "id": "5cbc7ebb",
   "metadata": {},
   "source": [
    "<div class=\"alert alert-block alert-success\">\n",
    "    <h2 align=\"center\">Step2: Gather useful information of the data</h2>\n",
    "</div> "
   ]
  },
  {
   "cell_type": "code",
   "execution_count": 2,
   "id": "fa06a2b3",
   "metadata": {},
   "outputs": [
    {
     "name": "stdout",
     "output_type": "stream",
     "text": [
      "<class 'pandas.core.frame.DataFrame'>\n",
      "RangeIndex: 10841 entries, 0 to 10840\n",
      "Data columns (total 13 columns):\n",
      " #   Column          Non-Null Count  Dtype  \n",
      "---  ------          --------------  -----  \n",
      " 0   App             10841 non-null  object \n",
      " 1   Category        10841 non-null  object \n",
      " 2   Rating          9367 non-null   float64\n",
      " 3   Reviews         10841 non-null  object \n",
      " 4   Size            10841 non-null  object \n",
      " 5   Installs        10841 non-null  object \n",
      " 6   Type            10840 non-null  object \n",
      " 7   Price           10841 non-null  object \n",
      " 8   Content Rating  10840 non-null  object \n",
      " 9   Genres          10841 non-null  object \n",
      " 10  Last Updated    10841 non-null  object \n",
      " 11  Current Ver     10833 non-null  object \n",
      " 12  Android Ver     10838 non-null  object \n",
      "dtypes: float64(1), object(12)\n",
      "memory usage: 1.1+ MB\n",
      "\n",
      "The number of rows is    :10841\n",
      "The number of columns is :13\n",
      "\n",
      "The title of columns : \n",
      "Index(['App', 'Category', 'Rating', 'Reviews', 'Size', 'Installs', 'Type',\n",
      "       'Price', 'Content Rating', 'Genres', 'Last Updated', 'Current Ver',\n",
      "       'Android Ver'],\n",
      "      dtype='object')\n",
      "\n",
      "Index list:\n",
      "RangeIndex(start=0, stop=10841, step=1)\n"
     ]
    }
   ],
   "source": [
    "rows, columns = data.shape\n",
    "data.info()\n",
    "print(f'\\nThe number of rows is    :{rows}\\nThe number of columns is :{columns}')\n",
    "print(f'\\nThe title of columns : \\n{data.columns}')\n",
    "print(f'\\nIndex list:\\n{data.index}')"
   ]
  },
  {
   "cell_type": "code",
   "execution_count": 3,
   "id": "8c6a857c",
   "metadata": {},
   "outputs": [
    {
     "data": {
      "text/plain": [
       "App               9660\n",
       "Category            34\n",
       "Rating              40\n",
       "Reviews           6002\n",
       "Size               462\n",
       "Installs            22\n",
       "Type                 3\n",
       "Price               93\n",
       "Content Rating       6\n",
       "Genres             120\n",
       "Last Updated      1378\n",
       "Current Ver       2832\n",
       "Android Ver         33\n",
       "dtype: int64"
      ]
     },
     "execution_count": 3,
     "metadata": {},
     "output_type": "execute_result"
    }
   ],
   "source": [
    "# Find unique items in each column\n",
    "data.nunique()"
   ]
  },
  {
   "cell_type": "markdown",
   "id": "775bd168",
   "metadata": {},
   "source": [
    "<div class=\"alert alert-block alert-success\">\n",
    "    <h2 align=\"center\">Step3: Change the type of each column to a good type like int,flaot,...</h2>\n",
    "</div> "
   ]
  },
  {
   "cell_type": "code",
   "execution_count": 4,
   "id": "eb29d103",
   "metadata": {},
   "outputs": [
    {
     "name": "stdout",
     "output_type": "stream",
     "text": [
      "The index ,including error, is 10472 with a value of '3.0M'\n"
     ]
    }
   ],
   "source": [
    "# Change type of column \"Reviews\" from object to int32\n",
    "# When you run this code : data.Reviews = data.Reviews.astype('int32') , you understand that the code is intteruped beacuse of\n",
    "# 3.0M item. So to solve this item, firstly we check that which index includes this item. So :\n",
    "for i, item in enumerate(data.Reviews):\n",
    "   try:\n",
    "      int(item)\n",
    "   except ValueError:\n",
    "      print('The index ,including error, is {} with a value of {!r}'.format(i, item))\n"
   ]
  },
  {
   "cell_type": "code",
   "execution_count": 5,
   "id": "2495a806",
   "metadata": {},
   "outputs": [],
   "source": [
    "# Now we must check this row to solve the error.\n",
    "# After checking it, you undestand that this row must be shifted one step to the right. So:\n",
    "data.iloc[10472] = data.iloc[10472].shift(periods=1)"
   ]
  },
  {
   "cell_type": "code",
   "execution_count": 6,
   "id": "943954a0",
   "metadata": {},
   "outputs": [],
   "source": [
    "# Now we can change the type of it:\n",
    "data.Reviews = data.Reviews.astype('int32')"
   ]
  },
  {
   "cell_type": "code",
   "execution_count": 7,
   "id": "2b13343d",
   "metadata": {
    "scrolled": true
   },
   "outputs": [],
   "source": [
    "# Change type of columns [\"App\",\"Type\",\"Content Rating\",\"Category\",\"Genres\", \"Current Ver\", \"Android Ver\"] from objects\n",
    "# to categories\n",
    "for i in [\"App\",\"Type\",\"Content Rating\",\"Category\",\"Genres\", \"Current Ver\", \"Android Ver\"]:\n",
    "    data[i] = data[i].astype('category')"
   ]
  },
  {
   "cell_type": "code",
   "execution_count": 8,
   "id": "23c24202",
   "metadata": {},
   "outputs": [],
   "source": [
    "# Change type of column \"Rating\" from obeject to float16 (for minimizing the useage of memory)\n",
    "data.Rating = data.Rating.astype('float16')"
   ]
  },
  {
   "cell_type": "code",
   "execution_count": 9,
   "id": "c843bfc8",
   "metadata": {},
   "outputs": [
    {
     "name": "stdout",
     "output_type": "stream",
     "text": [
      "Type of column \"Size\" has changed to : float64\n"
     ]
    },
    {
     "data": {
      "text/html": [
       "<div>\n",
       "<style scoped>\n",
       "    .dataframe tbody tr th:only-of-type {\n",
       "        vertical-align: middle;\n",
       "    }\n",
       "\n",
       "    .dataframe tbody tr th {\n",
       "        vertical-align: top;\n",
       "    }\n",
       "\n",
       "    .dataframe thead th {\n",
       "        text-align: right;\n",
       "    }\n",
       "</style>\n",
       "<table border=\"1\" class=\"dataframe\">\n",
       "  <thead>\n",
       "    <tr style=\"text-align: right;\">\n",
       "      <th></th>\n",
       "      <th>Size</th>\n",
       "    </tr>\n",
       "  </thead>\n",
       "  <tbody>\n",
       "    <tr>\n",
       "      <th>0</th>\n",
       "      <td>19000000.0</td>\n",
       "    </tr>\n",
       "    <tr>\n",
       "      <th>1</th>\n",
       "      <td>14000000.0</td>\n",
       "    </tr>\n",
       "    <tr>\n",
       "      <th>2</th>\n",
       "      <td>8700000.0</td>\n",
       "    </tr>\n",
       "    <tr>\n",
       "      <th>3</th>\n",
       "      <td>25000000.0</td>\n",
       "    </tr>\n",
       "    <tr>\n",
       "      <th>4</th>\n",
       "      <td>2800000.0</td>\n",
       "    </tr>\n",
       "    <tr>\n",
       "      <th>...</th>\n",
       "      <td>...</td>\n",
       "    </tr>\n",
       "    <tr>\n",
       "      <th>10836</th>\n",
       "      <td>53000000.0</td>\n",
       "    </tr>\n",
       "    <tr>\n",
       "      <th>10837</th>\n",
       "      <td>3600000.0</td>\n",
       "    </tr>\n",
       "    <tr>\n",
       "      <th>10838</th>\n",
       "      <td>9500000.0</td>\n",
       "    </tr>\n",
       "    <tr>\n",
       "      <th>10839</th>\n",
       "      <td>NaN</td>\n",
       "    </tr>\n",
       "    <tr>\n",
       "      <th>10840</th>\n",
       "      <td>19000000.0</td>\n",
       "    </tr>\n",
       "  </tbody>\n",
       "</table>\n",
       "<p>10841 rows × 1 columns</p>\n",
       "</div>"
      ],
      "text/plain": [
       "             Size\n",
       "0      19000000.0\n",
       "1      14000000.0\n",
       "2       8700000.0\n",
       "3      25000000.0\n",
       "4       2800000.0\n",
       "...           ...\n",
       "10836  53000000.0\n",
       "10837   3600000.0\n",
       "10838   9500000.0\n",
       "10839         NaN\n",
       "10840  19000000.0\n",
       "\n",
       "[10841 rows x 1 columns]"
      ]
     },
     "execution_count": 9,
     "metadata": {},
     "output_type": "execute_result"
    }
   ],
   "source": [
    "# Change type of column \"Size\" from object to float16. But firstly we must remove letters 'M' and \"k\" form the items and multiply\n",
    "# them by 1000 and 10000, respectively. So we define a function to use it in data.apply() code\n",
    "\n",
    "# Our function:\n",
    "def items_to_float_values(x):\n",
    "    if type(x) == float or type(x) == int:\n",
    "        return x\n",
    "    if 'k' in x:\n",
    "        if len(x) > 1:\n",
    "            return float(x.replace('k', '')) * 1000\n",
    "        return 1000.0\n",
    "    if 'M' in x:\n",
    "        if len(x) > 1:\n",
    "            return float(x.replace('M', '')) * 1000000\n",
    "        return 1000000.0\n",
    "    return None\n",
    "\n",
    "data.Size = data.Size.apply(items_to_float_values)\n",
    "\n",
    "# So far we have turned items to float numbers and eliminated 'M' and 'k' form items\n",
    "# Take a look at them:\n",
    "print('Type of column \"Size\" has changed to :',data.Size.dtype)\n",
    "data.iloc[:,[4]]"
   ]
  },
  {
   "cell_type": "code",
   "execution_count": 10,
   "id": "695780c9",
   "metadata": {},
   "outputs": [],
   "source": [
    "# Change type of column \"Installs\" from object to int64. But firstly we must remove string '+' from items. Then remove comma\n",
    "# form items and finally change the type:\n",
    "\n",
    "data= data.replace(to_replace={'Installs':'[+]'},value={'Installs':''},regex=True)\n",
    "data.Installs = data.Installs.str.replace(',', '').astype('int64')"
   ]
  },
  {
   "cell_type": "code",
   "execution_count": 11,
   "id": "1f02450d",
   "metadata": {},
   "outputs": [],
   "source": [
    "# Change type of column 'Price' from obejct flaot16. But first, we must remove $ from items\n",
    "data.Price = data.Price.str.replace('$', '', regex=True).astype('float16')"
   ]
  },
  {
   "cell_type": "code",
   "execution_count": 12,
   "id": "095473ad",
   "metadata": {},
   "outputs": [],
   "source": [
    "# Change type of column \"Last Updated\" from object to time\n",
    "data['Last Updated'] = pd.to_datetime(data['Last Updated'])"
   ]
  },
  {
   "cell_type": "code",
   "execution_count": null,
   "id": "740317e3",
   "metadata": {},
   "outputs": [],
   "source": [
    "# So far, we have successfully changed all old types to new ones. Therefor, take a look at the information of data again"
   ]
  },
  {
   "cell_type": "code",
   "execution_count": 14,
   "id": "53939345",
   "metadata": {},
   "outputs": [
    {
     "name": "stdout",
     "output_type": "stream",
     "text": [
      "<class 'pandas.core.frame.DataFrame'>\n",
      "RangeIndex: 10841 entries, 0 to 10840\n",
      "Data columns (total 13 columns):\n",
      " #   Column          Non-Null Count  Dtype         \n",
      "---  ------          --------------  -----         \n",
      " 0   App             10840 non-null  category      \n",
      " 1   Category        10841 non-null  category      \n",
      " 2   Rating          9367 non-null   float16       \n",
      " 3   Reviews         10841 non-null  int32         \n",
      " 4   Size            9146 non-null   float64       \n",
      " 5   Installs        10841 non-null  int64         \n",
      " 6   Type            10840 non-null  category      \n",
      " 7   Price           10841 non-null  float16       \n",
      " 8   Content Rating  10841 non-null  category      \n",
      " 9   Genres          10840 non-null  category      \n",
      " 10  Last Updated    10841 non-null  datetime64[ns]\n",
      " 11  Current Ver     10833 non-null  category      \n",
      " 12  Android Ver     10839 non-null  category      \n",
      "dtypes: category(7), datetime64[ns](1), float16(2), float64(1), int32(1), int64(1)\n",
      "memory usage: 862.3 KB\n",
      "\n",
      "Congratulations. You have successfully changed the types\n"
     ]
    }
   ],
   "source": [
    "data.info()\n",
    "print('\\nCongratulations. You have successfully changed the types')"
   ]
  },
  {
   "cell_type": "markdown",
   "id": "2cb64d86",
   "metadata": {},
   "source": [
    "<div class=\"alert alert-block alert-success\">\n",
    "    <h2 align=\"center\">Step4: Fill missing values </h2>\n",
    "</div> "
   ]
  },
  {
   "cell_type": "code",
   "execution_count": 15,
   "id": "49f192ac",
   "metadata": {},
   "outputs": [
    {
     "data": {
      "text/plain": [
       "App                  1\n",
       "Category             0\n",
       "Rating            1474\n",
       "Reviews              0\n",
       "Size              1695\n",
       "Installs             0\n",
       "Type                 1\n",
       "Price                0\n",
       "Content Rating       0\n",
       "Genres               1\n",
       "Last Updated         0\n",
       "Current Ver          8\n",
       "Android Ver          2\n",
       "dtype: int64"
      ]
     },
     "execution_count": 15,
     "metadata": {},
     "output_type": "execute_result"
    }
   ],
   "source": [
    "# at the begining we check the number of missed values in each column\n",
    "data.isnull().sum()"
   ]
  },
  {
   "cell_type": "code",
   "execution_count": 36,
   "id": "ef4111f8",
   "metadata": {},
   "outputs": [
    {
     "data": {
      "text/html": [
       "<div>\n",
       "<style scoped>\n",
       "    .dataframe tbody tr th:only-of-type {\n",
       "        vertical-align: middle;\n",
       "    }\n",
       "\n",
       "    .dataframe tbody tr th {\n",
       "        vertical-align: top;\n",
       "    }\n",
       "\n",
       "    .dataframe thead th {\n",
       "        text-align: right;\n",
       "    }\n",
       "</style>\n",
       "<table border=\"1\" class=\"dataframe\">\n",
       "  <thead>\n",
       "    <tr style=\"text-align: right;\">\n",
       "      <th></th>\n",
       "      <th>App</th>\n",
       "      <th>Category</th>\n",
       "      <th>Rating</th>\n",
       "      <th>Reviews</th>\n",
       "      <th>Size</th>\n",
       "      <th>Installs</th>\n",
       "      <th>Type</th>\n",
       "      <th>Price</th>\n",
       "      <th>Content Rating</th>\n",
       "      <th>Genres</th>\n",
       "      <th>Last Updated</th>\n",
       "      <th>Current Ver</th>\n",
       "      <th>Android Ver</th>\n",
       "    </tr>\n",
       "  </thead>\n",
       "  <tbody>\n",
       "    <tr>\n",
       "      <th>10472</th>\n",
       "      <td>NaN</td>\n",
       "      <td>Life Made WI-Fi Touchscreen Photo Frame</td>\n",
       "      <td>1.900391</td>\n",
       "      <td>19</td>\n",
       "      <td>3000000.0</td>\n",
       "      <td>1000</td>\n",
       "      <td>Free</td>\n",
       "      <td>0.0</td>\n",
       "      <td>Everyone</td>\n",
       "      <td>NaN</td>\n",
       "      <td>2018-02-11</td>\n",
       "      <td>1.0.19</td>\n",
       "      <td>4.0 and up</td>\n",
       "    </tr>\n",
       "  </tbody>\n",
       "</table>\n",
       "</div>"
      ],
      "text/plain": [
       "       App                                 Category    Rating  Reviews  \\\n",
       "10472  NaN  Life Made WI-Fi Touchscreen Photo Frame  1.900391       19   \n",
       "\n",
       "            Size  Installs  Type  Price Content Rating Genres Last Updated  \\\n",
       "10472  3000000.0      1000  Free    0.0       Everyone    NaN   2018-02-11   \n",
       "\n",
       "      Current Ver Android Ver  \n",
       "10472      1.0.19  4.0 and up  "
      ]
     },
     "execution_count": 36,
     "metadata": {},
     "output_type": "execute_result"
    }
   ],
   "source": [
    "# Now we must chech all missing values and fill the them, if it is necessary\n",
    "# Start with column \"App\". We must find where the value has been missed. S:\n",
    "index_of_null_value_in_App_column= np.where(data.App.isnull())[0]\n",
    "data.iloc[index_of_null_value_in_App_column]"
   ]
  },
  {
   "cell_type": "code",
   "execution_count": 37,
   "id": "33ab3c49",
   "metadata": {},
   "outputs": [],
   "source": [
    "# Wow. There is  actually a NaN value in column \"APP\""
   ]
  },
  {
   "cell_type": "code",
   "execution_count": null,
   "id": "1710a73b",
   "metadata": {},
   "outputs": [],
   "source": []
  }
 ],
 "metadata": {
  "kernelspec": {
   "display_name": "Python 3 (ipykernel)",
   "language": "python",
   "name": "python3"
  },
  "language_info": {
   "codemirror_mode": {
    "name": "ipython",
    "version": 3
   },
   "file_extension": ".py",
   "mimetype": "text/x-python",
   "name": "python",
   "nbconvert_exporter": "python",
   "pygments_lexer": "ipython3",
   "version": "3.10.4"
  }
 },
 "nbformat": 4,
 "nbformat_minor": 5
}
